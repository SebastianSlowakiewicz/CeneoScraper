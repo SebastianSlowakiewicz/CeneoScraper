{
 "cells": [
  {
   "cell_type": "markdown",
   "metadata": {},
   "source": [
    "# Ceneo Scraper"
   ]
  },
  {
   "cell_type": "markdown",
   "metadata": {},
   "source": [
    "## Lista kroków \"manualnych\"\n",
    "\n",
    "1. Wejdź na stronę produktu / z opiniami o produkcie\n",
    "2. Dla każdej opini na stronie \n",
    "    1. skopiuj opinię\n",
    "    2. wklej opinię do edytora tekstu\n",
    "3. Przejdź do kolejnej strony z opiniami\n",
    "4. Powtarzaj kroki 2-3 dopóki są strony z opiniami \n",
    "\n",
    "## Lista krokow Scrapera\n",
    "\n",
    "1. Wysłanie żądania dostępu do zasobu - strona z opiniami o produkcie \n",
    "2. Wydobycie z kodu HTML fragmentów odpowiadających opiniom\n",
    "3. Dla każdej opinii na stronie\n",
    "    1. Wydobycie z kodu opini jej składowych\n",
    "\n",
    "\n",
    "\n"
   ]
  },
  {
   "cell_type": "markdown",
   "metadata": {},
   "source": [
    "## Struktura opini w serwisie Ceneo.pl\n",
    "\n",
    "| składowa | nazwa | selektor |\n",
    "|----------|-------|----------|\n",
    "| identyfikator opinii|opinion_id||\n",
    "| autora|author||\n",
    "| rekomendacja|recomendation||\n",
    "| treść opinii|content||\n",
    "| lista zalet|pros||\n",
    "| lista wad|cons||\n",
    "| data wystawienia opinii|post_date||\n",
    "| data zakupu produktu|purchase_date||\n",
    "| ile osób uznało opinię za przydatną|useful||\n",
    "| ile osób uznało opinię za nieprzydatną|useless||\n",
    "\n",
    "(div.js_product-review)- przykład do selektora\n",
    "znaleźć na ceneo przy jakieś opini \n",
    "\n"
   ]
  },
  {
   "cell_type": "markdown",
   "metadata": {},
   "source": [
    "63717975\n",
    "124893467\n",
    "1084811121\n",
    "114228736\n",
    "28020568"
   ]
  },
  {
   "cell_type": "markdown",
   "metadata": {},
   "source": [
    "1. Import bibliotek"
   ]
  },
  {
   "cell_type": "code",
   "execution_count": 2,
   "metadata": {},
   "outputs": [],
   "source": [
    "import requests\n",
    "from bs4 import BeautifulSoup"
   ]
  },
  {
   "cell_type": "markdown",
   "metadata": {},
   "source": [
    "2. Wysłanie żądania dostępu do zasobu (request)"
   ]
  },
  {
   "cell_type": "code",
   "execution_count": 4,
   "metadata": {},
   "outputs": [
    {
     "name": "stdout",
     "output_type": "stream",
     "text": [
      "200\n"
     ]
    }
   ],
   "source": [
    "product_code= \"28020568\"\n",
    "url= f\"https://www.ceneo.pl/{product_code}#tab=reviews\"\n",
    "response = requests.get(url)"
   ]
  },
  {
   "cell_type": "markdown",
   "metadata": {},
   "source": [
    "3. Wydobycie z kodu HTML fragmentów odpowiadających opiniom"
   ]
  },
  {
   "cell_type": "code",
   "execution_count": 22,
   "metadata": {},
   "outputs": [
    {
     "name": "stdout",
     "output_type": "stream",
     "text": [
      "<class 'bs4.element.ResultSet'>\n",
      "<class 'bs4.element.Tag'>\n"
     ]
    }
   ],
   "source": [
    "page = BeautifulSoup(response.text, \"html.parser\")\n",
    "opinions = page.select(\"div.js_product-review\")"
   ]
  },
  {
   "cell_type": "markdown",
   "metadata": {},
   "source": [
    "4. Wydobycie z kodu pini jej składowych dla każdej opinii na stronie"
   ]
  },
  {
   "cell_type": "code",
   "execution_count": null,
   "metadata": {},
   "outputs": [],
   "source": [
    "for opinion in opinions:\n",
    "    pass"
   ]
  }
 ],
 "metadata": {
  "kernelspec": {
   "display_name": ".venv",
   "language": "python",
   "name": "python3"
  },
  "language_info": {
   "codemirror_mode": {
    "name": "ipython",
    "version": 3
   },
   "file_extension": ".py",
   "mimetype": "text/x-python",
   "name": "python",
   "nbconvert_exporter": "python",
   "pygments_lexer": "ipython3",
   "version": "3.12.0"
  }
 },
 "nbformat": 4,
 "nbformat_minor": 2
}
