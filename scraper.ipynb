{
 "cells": [
  {
   "cell_type": "markdown",
   "metadata": {},
   "source": [
    "# Ceneo Scraper"
   ]
  },
  {
   "cell_type": "markdown",
   "metadata": {},
   "source": [
    "## Lista kroków \"manualnych\"\n",
    "\n",
    "1. Wejdź na stronę produktu / z opiniami o produkcie\n",
    "2. Dla każdej opini na stronie \n",
    "    1. skopiuj opinię\n",
    "    2. wklej opinię do edytora tekstu\n",
    "3. Przejdź do kolejnej strony z opiniami\n",
    "4. Powtarzaj kroki 2-3 dopóki są strony z opiniami \n",
    "\n",
    "## Lista krokow Scrapera\n",
    "\n",
    "1. Wysłanie żądania dostępu do zasobu - strona z opiniami o produkcie \n",
    "2. Wydobycie z kodu HTML fragmentów odpowiadających opiniom\n",
    "3. Dla każdej opinii na stronie\n",
    "    1. Wydobycie z kodu opini jej składowych do słownika\n",
    "    2. dodanie słownika reprezętującego pojedyńczą opinię do listy\n",
    "4. \n",
    "\n",
    "\n"
   ]
  },
  {
   "cell_type": "markdown",
   "metadata": {},
   "source": [
    "## Struktura opini w serwisie Ceneo.pl\n",
    "\n",
    "| składowa | nazwa | selektor |\n",
    "|----------|-------|----------|\n",
    "| identyfikator opinii|opinion_id|[\"data-entry-id\"]|\n",
    "| autor|author|span.user-post__author-name|\n",
    "| rekomendacja|recommendation|span.user-post__author-recomendation > em|\n",
    "| liczba gwiazdek|stars|span.user-post__score-count|\n",
    "| treść opinii|content|div.user-post__text|\n",
    "| lista zalet|pros|div.review-feature__title--positives ~ div.review-feature__item|\n",
    "| lista wad|cons|div.review-feature__title--negatives ~ div.review-feature__item |\n",
    "| data wystawienia opinii|post_date|span.user-post__published > time:nth-child(1)[\"datetime\"]|\n",
    "| data zakupu produktu|purchase_date|span.user-post__published > time:nth-child(2)[\"datetime\"]|\n",
    "| ile osób uznało opinię za przydatną|useful|.vote-yes > span|\n",
    "| ile osób uznało opinię za nieprzydatną|useless|.vote-no > span|\n"
   ]
  },
  {
   "cell_type": "markdown",
   "metadata": {},
   "source": [
    "63717975\n",
    "124893467\n",
    "1084811121\n",
    "114228736\n",
    "28020568"
   ]
  },
  {
   "cell_type": "markdown",
   "metadata": {},
   "source": [
    "1. Import bibliotek"
   ]
  },
  {
   "cell_type": "code",
   "execution_count": 8,
   "metadata": {},
   "outputs": [],
   "source": [
    "import os\n",
    "import json\n",
    "import requests\n",
    "from bs4 import BeautifulSoup"
   ]
  },
  {
   "cell_type": "markdown",
   "metadata": {},
   "source": [
    "2. Wysłanie żądania dostępu do zasobu (request)"
   ]
  },
  {
   "cell_type": "code",
   "execution_count": 2,
   "metadata": {},
   "outputs": [],
   "source": [
    "product_code= \"28020568\"\n",
    "url= f\"https://www.ceneo.pl/{product_code}#tab=reviews\"\n",
    "response = requests.get(url)"
   ]
  },
  {
   "cell_type": "markdown",
   "metadata": {},
   "source": [
    "3. Wydobycie z kodu HTML fragmentów odpowiadających opiniom"
   ]
  },
  {
   "cell_type": "code",
   "execution_count": 3,
   "metadata": {},
   "outputs": [],
   "source": [
    "page = BeautifulSoup(response.text, \"html.parser\")\n",
    "opinions = page.select(\"div.js_product-review\")"
   ]
  },
  {
   "cell_type": "markdown",
   "metadata": {},
   "source": [
    "4. Wydobycie z kodu pini jej składowych dla każdej opinii na stronie"
   ]
  },
  {
   "cell_type": "code",
   "execution_count": 9,
   "metadata": {},
   "outputs": [],
   "source": [
    "all_opinions = []\n",
    "for opinion in opinions:\n",
    "    single_opinion = {\n",
    "        'opinion_id': opinion[\"data-entry-id\"].strip(), \n",
    "        'author': opinion.select_one(\"span.user-post__author-name\").text.strip(),\n",
    "        'recommendation': opinion.select_one(\"span.user-post__author-recomendation > em\").text.strip(),\n",
    "        'stars': opinion.select_one(\"span.user-post__score-count\").text.strip(),\n",
    "        'content': opinion.select_one(\"div.user-post__text\").text.strip(),\n",
    "        'pros': [p.text for p in opinion.select(\"div.review-feature__title--positives ~ div.review-feature__item\")],\n",
    "        'cons': [c.text for c in opinion.select(\"div.review-feature__title--negatives ~ div.review-feature__item\")],\n",
    "        'post_date': opinion.select_one(\"span.user-post__published > time:nth-child(1)\")[\"datetime\"].strip(),\n",
    "        'purchase_date': opinion.select_one(\"span.user-post__published > time:nth-child(1)\")[\"datetime\"].strip(),\n",
    "        'useful': opinion.select_one(\".vote-yes > span\").text.strip(),\n",
    "        'useless': opinion.select_one(\".vote-no > span\").text.strip(),\n",
    "    }\n",
    "    all_opinions.append(single_opinion)\n"
   ]
  },
  {
   "cell_type": "markdown",
   "metadata": {},
   "source": [
    "5. Zapis opinii do pliku JSON"
   ]
  },
  {
   "cell_type": "code",
   "execution_count": 10,
   "metadata": {},
   "outputs": [],
   "source": [
    "if not os.path.exists(\"opinions\"):\n",
    "    os.mkdir(\"opinions\")\n",
    "jf = open(f\"opinions/{product_code}.json\", \"w\", encoding=\"UTF-8\")\n",
    "json.dump(all_opinions, jf, indent=4, ensure_ascii=False)\n",
    "jf.close()\n"
   ]
  }
 ],
 "metadata": {
  "kernelspec": {
   "display_name": ".venv",
   "language": "python",
   "name": "python3"
  },
  "language_info": {
   "codemirror_mode": {
    "name": "ipython",
    "version": 3
   },
   "file_extension": ".py",
   "mimetype": "text/x-python",
   "name": "python",
   "nbconvert_exporter": "python",
   "pygments_lexer": "ipython3",
   "version": "3.12.0"
  }
 },
 "nbformat": 4,
 "nbformat_minor": 2
}
